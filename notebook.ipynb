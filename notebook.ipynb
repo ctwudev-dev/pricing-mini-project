{
 "cells": [
  {
   "cell_type": "markdown",
   "id": "76a3f4de",
   "metadata": {},
   "source": [
    "# Energy Tariff Pricing Elasticity Analysis\n",
    "\n",
    "This notebook demonstrates a simple analysis of price elasticity for an energy tariff using a synthetic dataset.  \n",
    "We generate daily observations for price, competitor price, traffic, marketing spend, and conversion rate, then estimate the price elasticity of demand and simulate the impact of small price changes on revenue.\n",
    "\n"
   ]
  },
  {
   "cell_type": "code",
   "execution_count": null,
   "id": "760d0a14",
   "metadata": {},
   "outputs": [],
   "source": [
    "import pandas as pd\n",
    "import numpy as np\n",
    "\n",
    "# Load dataset (assumes `daily_pricing_data.csv` is in the same directory)\n",
    "data = pd.read_csv('daily_pricing_data.csv')\n",
    "data.head()\n"
   ]
  },
  {
   "cell_type": "code",
   "execution_count": null,
   "id": "3bfa0a33",
   "metadata": {},
   "outputs": [],
   "source": [
    "# Estimate price elasticity via log-log regression\n",
    "import statsmodels.api as sm\n",
    "\n",
    "# Assume 'traffic' approximates demand, use log(price) and log(demand)\n",
    "data['log_price'] = np.log(data['price'])\n",
    "data['log_demand'] = np.log(data['traffic'])\n",
    "\n",
    "X = sm.add_constant(data['log_price'])\n",
    "y = data['log_demand']\n",
    "model = sm.OLS(y, X).fit()\n",
    "elasticity = model.params['log_price']\n",
    "\n",
    "elasticity\n"
   ]
  },
  {
   "cell_type": "code",
   "execution_count": null,
   "id": "3e30c73c",
   "metadata": {},
   "outputs": [],
   "source": [
    "# Simulate revenue impact of a small price change\n",
    "base_price = data['price'].mean()\n",
    "base_demand = data['traffic'].mean()\n",
    "\n",
    "# Suppose we increase price by 1%\n",
    "price_change = 0.01\n",
    "new_price = base_price * (1 + price_change)\n",
    "new_demand = base_demand * (new_price / base_price) ** elasticity\n",
    "\n",
    "base_revenue = base_price * base_demand\n",
    "new_revenue = new_price * new_demand\n",
    "\n",
    "base_revenue, new_revenue\n"
   ]
  },
  {
   "cell_type": "code",
   "execution_count": null,
   "id": "64e5eb1f",
   "metadata": {},
   "outputs": [],
   "source": [
    "# Display estimated elasticity and revenue comparison\n",
    "print(f'Estimated price elasticity: {elasticity:.2f}')\n",
    "print(f'Base revenue: €{base_revenue:.2f}')\n",
    "print(f'New revenue after 1% price increase: €{new_revenue:.2f}')\n"
   ]
  }
 ],
 "metadata": {
  "kernelspec": {
   "display_name": "Python 3",
   "language": "python",
   "name": "python3"
  },
  "language_info": {
   "codemirror_mode": {
    "name": "ipython",
    "version": 3
   },
   "file_extension": ".py",
   "mimetype": "text/x-python",
   "name": "python",
   "nbconvert_exporter": "python",
   "pygments_lexer": "ipython3",
   "version": "3.10.12"
  }
 },
 "nbformat": 4,
 "nbformat_minor": 5
}
